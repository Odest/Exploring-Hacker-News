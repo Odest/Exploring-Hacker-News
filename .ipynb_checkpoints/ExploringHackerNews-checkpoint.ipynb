{
 "cells": [
  {
   "cell_type": "markdown",
   "metadata": {
    "collapsed": true
   },
   "source": [
    "# Exploring 'Ask HN' and 'Show HN ' posts in Hacker News\n",
    "\n",
    "[Hacker News](https://news.ycombinator.com/) is a site, similar to Reddit, where users-submitted stories or posts are voted and commented on. It is a popular site within the technology and startup communities, where a single post can receive hundreds of thousands of visitors. \n",
    "\n",
    "The data set that will be worked with can be found [here](https://www.kaggle.com/hacker-news/hacker-news-posts), but note that it has been reduced from 300,000 rows to approximately 20,000 rows from removing submissions that did not receive comments and then random sampling from the remaining submissions. Below breaksdown the columns of the data set.\n",
    "\n",
    "| Column Name \t| Description \t|\n",
    "|:-\t|:-\t|\n",
    "| `id` \t| The unique identifier from Hacker News for the post \t|\n",
    "| `title` \t| The title of the post \t|\n",
    "| `url` \t| The URL that the posts links to, if the post has a URL \t|\n",
    "| `num_points` \t| The number of points the post acquired, calculated as the total number of upvotes minus the total number of downvotes \t|\n",
    "| `num_comments` \t| The number of comments that were made on the post \t|\n",
    "| `author` \t| The username of the person who submitted the post \t|\n",
    "| `created_at` \t| The date and time at which the post was submitted \t|\n",
    "\n",
    "The two types of posts that will be focused on are ones that start with 'Ask HN'(where a user asks a specific question to the Hacker News community) and 'Show HN'(where a user shares a project, product, or some interesting information to the Hacker News community).\n",
    "\n",
    "The purpose of this project is to compare two types of posts and determine if:\n",
    "\n",
    "- Do 'Ask HN' or 'Show HN' receive more comments on average?\n",
    "- Do posts created at a certain time receive more comments on average?"
   ]
  },
  {
   "cell_type": "markdown",
   "metadata": {},
   "source": [
    "# Importing and prepping the data set\n",
    "\n",
    "We begin the analysis process by importing and reading the data set."
   ]
  },
  {
   "cell_type": "code",
   "execution_count": 1,
   "metadata": {},
   "outputs": [
    {
     "name": "stdout",
     "output_type": "stream",
     "text": [
      "['id', 'title', 'url', 'num_points', 'num_comments', 'author', 'created_at']\n",
      "\n",
      "\n",
      "['12224879', 'Interactive Dynamic Video', 'http://www.interactivedynamicvideo.com/', '386', '52', 'ne0phyte', '8/4/2016 11:52']\n",
      "\n",
      "\n",
      "['10975351', 'How to Use Open Source and Shut the Fuck Up at the Same Time', 'http://hueniverse.com/2016/01/26/how-to-use-open-source-and-shut-the-fuck-up-at-the-same-time/', '39', '10', 'josep2', '1/26/2016 19:30']\n",
      "\n",
      "\n",
      "['11964716', \"Florida DJs May Face Felony for April Fools' Water Joke\", 'http://www.thewire.com/entertainment/2013/04/florida-djs-april-fools-water-joke/63798/', '2', '1', 'vezycash', '6/23/2016 22:20']\n",
      "\n",
      "\n",
      "['11919867', 'Technology ventures: From Idea to Enterprise', 'https://www.amazon.com/Technology-Ventures-Enterprise-Thomas-Byers/dp/0073523429', '3', '1', 'hswarna', '6/17/2016 0:01']\n",
      "\n",
      "\n",
      "['10301696', 'Note by Note: The Making of Steinway L1037 (2007)', 'http://www.nytimes.com/2007/11/07/movies/07stein.html?_r=0', '8', '2', 'walterbell', '9/30/2015 4:12']\n",
      "\n",
      "\n"
     ]
    }
   ],
   "source": [
    "#open and read file in csv\n",
    "from csv import reader\n",
    "open_file = open('hacker_news.csv')\n",
    "read_file = reader(open_file)\n",
    "hn = list(read_file)\n",
    "\n",
    "#seperate the header row and data\n",
    "headers = hn[0]\n",
    "hn = hn[1:]\n",
    "\n",
    "#checking to see if header was removed properly\n",
    "print(headers)\n",
    "print('\\n')\n",
    "#display first 5 rows\n",
    "for row in hn[:5]:\n",
    "    print (row)\n",
    "    print('\\n')"
   ]
  },
  {
   "cell_type": "markdown",
   "metadata": {},
   "source": [
    "Creating a method where it displays the first three rows in a data set for checking purposes"
   ]
  },
  {
   "cell_type": "code",
   "execution_count": 2,
   "metadata": {},
   "outputs": [],
   "source": [
    "def display_3(dataset):\n",
    "    for row in dataset[:3]:\n",
    "        print(row)"
   ]
  },
  {
   "cell_type": "markdown",
   "metadata": {},
   "source": [
    "# Finding the averages\n",
    "\n",
    "Below shows splitting the data set into three different parts: one for `Ask HN` posts, one for `Show HN` posts, and one for other posts"
   ]
  },
  {
   "cell_type": "code",
   "execution_count": 3,
   "metadata": {
    "scrolled": false
   },
   "outputs": [
    {
     "name": "stdout",
     "output_type": "stream",
     "text": [
      "1744\n",
      "['12296411', 'Ask HN: How to improve my personal website?', '', '2', '6', 'ahmedbaracat', '8/16/2016 9:55']\n",
      "['10610020', 'Ask HN: Am I the only one outraged by Twitter shutting down share counts?', '', '28', '29', 'tkfx', '11/22/2015 13:43']\n",
      "['11610310', 'Ask HN: Aby recent changes to CSS that broke mobile?', '', '1', '1', 'polskibus', '5/2/2016 10:14']\n",
      "None\n",
      "\n",
      "\n",
      "1162\n",
      "['10627194', 'Show HN: Wio Link  ESP8266 Based Web of Things Hardware Development Platform', 'https://iot.seeed.cc', '26', '22', 'kfihihc', '11/25/2015 14:03']\n",
      "['10646440', 'Show HN: Something pointless I made', 'http://dn.ht/picklecat/', '747', '102', 'dhotson', '11/29/2015 22:46']\n",
      "['11590768', 'Show HN: Shanhu.io, a programming playground powered by e8vm', 'https://shanhu.io', '1', '1', 'h8liu', '4/28/2016 18:05']\n",
      "None\n",
      "\n",
      "\n",
      "17194\n",
      "['12224879', 'Interactive Dynamic Video', 'http://www.interactivedynamicvideo.com/', '386', '52', 'ne0phyte', '8/4/2016 11:52']\n",
      "['10975351', 'How to Use Open Source and Shut the Fuck Up at the Same Time', 'http://hueniverse.com/2016/01/26/how-to-use-open-source-and-shut-the-fuck-up-at-the-same-time/', '39', '10', 'josep2', '1/26/2016 19:30']\n",
      "['11964716', \"Florida DJs May Face Felony for April Fools' Water Joke\", 'http://www.thewire.com/entertainment/2013/04/florida-djs-april-fools-water-joke/63798/', '2', '1', 'vezycash', '6/23/2016 22:20']\n",
      "None\n"
     ]
    }
   ],
   "source": [
    "#Create three different empty lists to separate the hn dataset\n",
    "ask_posts = []\n",
    "show_posts = []\n",
    "other_posts = []\n",
    "\n",
    "#Appending values into the three data sets by seeing what the line starts with,\n",
    "#converting the case of the string to lower case\n",
    "for row in hn:\n",
    "    title = row[1]\n",
    "    title = title.lower()\n",
    "    if title.startswith('ask hn'):\n",
    "        ask_posts.append(row)\n",
    "    elif title.startswith('show hn'):\n",
    "        show_posts.append(row)\n",
    "    else:\n",
    "        other_posts.append(row)\n",
    "        \n",
    "print(len(ask_posts))\n",
    "print(display_3(ask_posts))\n",
    "print('\\n')\n",
    "print(len(show_posts))\n",
    "print(display_3(show_posts))\n",
    "print('\\n')\n",
    "print(len(other_posts))\n",
    "print(display_3(other_posts))"
   ]
  },
  {
   "cell_type": "markdown",
   "metadata": {},
   "source": [
    "From the results above there are 1744 posts for 'Ask HN', 1162 posts for 'Show HN', and 17194 other posts. Focusing primarily on the 'Ask' and 'Show' posts we can see that are more ask post than show posts.\n",
    "\n",
    "Below we see how many comments that 'Ask HN' and 'Show HN' average."
   ]
  },
  {
   "cell_type": "code",
   "execution_count": 4,
   "metadata": {
    "scrolled": true
   },
   "outputs": [
    {
     "name": "stdout",
     "output_type": "stream",
     "text": [
      "The average amount of comments for the `ask_posts` data set is 14\n",
      "The average amount of comments for the `show_posts` data set is 10\n"
     ]
    }
   ],
   "source": [
    "#creating a function to check the average when inputting one of the lists \n",
    "def avg_comments (dataset):\n",
    "    #initializing variables\n",
    "    total_comments = 0\n",
    "    post_count = 0\n",
    "    #iterating through the list\n",
    "    for row in dataset:\n",
    "        comments = int(row[4]) #converting the string to int\n",
    "        total_comments = total_comments + comments\n",
    "        post_count += 1\n",
    "    avg_comments = total_comments/post_count\n",
    "    return avg_comments\n",
    "\n",
    "print('The average amount of comments for the `ask_posts` data set is', round(avg_comments(ask_posts)))\n",
    "print('The average amount of comments for the `show_posts` data set is', round(avg_comments(show_posts)))\n",
    "\n",
    "\n",
    "        "
   ]
  },
  {
   "cell_type": "markdown",
   "metadata": {},
   "source": [
    "The results above show that 'Ask HN' posts average more comments at 14, than 'Show HN' posts at 10. Although there are more posts in the 'Ask HN', the average is still higher. \n",
    "\n",
    "An inference that can be made is that there may be more users who comment trying to help the author, instead of those who just leave a comment posts with findings."
   ]
  },
  {
   "cell_type": "markdown",
   "metadata": {},
   "source": [
    "# Finding the average time where comments are posted more often\n",
    "\n",
    "Now we'd like to see if there is a general time period in the day where posts receive more comments. To find out we have to:\n",
    "\n",
    "1. Calculate the number of posts that are created each hour of the day and the comments from those posts\n",
    "2. Calculate the average number of comments that posts receive by the hour created\n",
    "\n",
    "Below we create functions to apply to both the `ask_posts` list and `show_posts` list. \n",
    "\n",
    "The function `posts_created_hourly` will return dictionaries that contains the hour of the day as the key:\n",
    "\n",
    "1. `counts_by_hour` contains the number of posts created at that time of day\n",
    "2. `metric_by_hour` contains the number of comments the type of posts created at each hour"
   ]
  },
  {
   "cell_type": "code",
   "execution_count": 5,
   "metadata": {
    "scrolled": true
   },
   "outputs": [
    {
     "name": "stdout",
     "output_type": "stream",
     "text": [
      "The frequency table of 'Ask HN' posts per hour:\n",
      "{'09': 45, '13': 85, '10': 59, '14': 107, '16': 108, '23': 68, '12': 73, '17': 100, '15': 116, '21': 109, '20': 80, '02': 58, '18': 109, '03': 54, '05': 46, '19': 110, '01': 60, '22': 71, '08': 48, '04': 47, '00': 55, '06': 44, '07': 34, '11': 58} {'09': 251, '13': 1253, '10': 793, '14': 1416, '16': 1814, '23': 543, '12': 687, '17': 1146, '15': 4477, '21': 1745, '20': 1722, '02': 1381, '18': 1439, '03': 421, '05': 464, '19': 1188, '01': 683, '22': 479, '08': 492, '04': 337, '00': 447, '06': 397, '07': 267, '11': 641}\n",
      "\n",
      "\n",
      "the frequency table of 'Show HN' posts per hour:\n",
      "{'14': 86, '22': 46, '18': 61, '07': 26, '20': 60, '05': 19, '16': 93, '19': 55, '15': 78, '03': 27, '17': 93, '06': 16, '02': 30, '13': 99, '08': 34, '21': 47, '04': 26, '11': 44, '12': 61, '23': 36, '09': 30, '01': 28, '10': 36, '00': 31} {'14': 1156, '22': 570, '18': 962, '07': 299, '20': 612, '05': 58, '16': 1084, '19': 539, '15': 632, '03': 287, '17': 911, '06': 142, '02': 127, '13': 946, '08': 165, '21': 272, '04': 247, '11': 491, '12': 720, '23': 447, '09': 291, '01': 246, '10': 297, '00': 487}\n"
     ]
    }
   ],
   "source": [
    "import datetime as dt #import datetime module\n",
    "\n",
    "#creating a function to find post created by the hour\n",
    "def posts_created_hourly(dataset):\n",
    "    \n",
    "    result_list = []\n",
    "    \n",
    "    #store 'date created' and 'number of comments' into the list\n",
    "    for row in dataset:\n",
    "        created_at = row[6]\n",
    "        num_comments = int(row[4]) #convertings string to int\n",
    "        result_list.append([created_at, num_comments])\n",
    "    \n",
    "    counts_by_hour = {}\n",
    "    comments_by_hour = {}\n",
    "    #store the values above into two different dictionaries with matching key values\n",
    "    for row in result_list:\n",
    "        create_date = row[0]\n",
    "        comment = row[1]\n",
    "        create_date_dt = dt.datetime.strptime(create_date, '%m/%d/%Y %H:%M') #strip the date values\n",
    "        hour = create_date_dt.strftime('%H') #only take the hour value in the time\n",
    "        if hour not in counts_by_hour:\n",
    "            counts_by_hour[hour] = 1\n",
    "            comments_by_hour[hour] = comment\n",
    "        else:\n",
    "            counts_by_hour[hour] += 1\n",
    "            comments_by_hour[hour] += comment\n",
    "\n",
    "    return counts_by_hour, comments_by_hour\n",
    "\n",
    "#call the function to the two lists\n",
    "ask_counts_by_hour, ask_comments_by_hour = posts_created_hourly(ask_posts)\n",
    "show_counts_by_hour, show_comments_by_hour = posts_created_hourly(show_posts)\n",
    "\n",
    "print(\"The frequency table of 'Ask HN' posts per hour:\")\n",
    "print(ask_counts_by_hour, ask_comments_by_hour)\n",
    "print('\\n')\n",
    "print(\"the frequency table of 'Show HN' posts per hour:\")\n",
    "print(show_counts_by_hour, show_comments_by_hour)\n"
   ]
  },
  {
   "cell_type": "markdown",
   "metadata": {},
   "source": [
    "From the two dictionaries created above, we can now determine the average number of comments for posts created during each hour of the day. To do this, we can create a function called `avg_comments_by_hour` that we can apply to both the `ask_posts` data set and `show_posts` data set. The function will take in both dictionaries, calculate the average based on the matching key value, and append the hour and its average into the new list."
   ]
  },
  {
   "cell_type": "code",
   "execution_count": 6,
   "metadata": {
    "scrolled": true
   },
   "outputs": [
    {
     "name": "stdout",
     "output_type": "stream",
     "text": [
      "[['09', 5.58], ['13', 14.74], ['10', 13.44], ['14', 13.23], ['16', 16.8], ['23', 7.99], ['12', 9.41], ['17', 11.46], ['15', 38.59], ['21', 16.01], ['20', 21.52], ['02', 23.81], ['18', 13.2], ['03', 7.8], ['05', 10.09], ['19', 10.8], ['01', 11.38], ['22', 6.75], ['08', 10.25], ['04', 7.17], ['00', 8.13], ['06', 9.02], ['07', 7.85], ['11', 11.05]]\n",
      "\n",
      "\n",
      "[['14', 13.44], ['22', 12.39], ['18', 15.77], ['07', 11.5], ['20', 10.2], ['05', 3.05], ['16', 11.66], ['19', 9.8], ['15', 8.1], ['03', 10.63], ['17', 9.8], ['06', 8.88], ['02', 4.23], ['13', 9.56], ['08', 4.85], ['21', 5.79], ['04', 9.5], ['11', 11.16], ['12', 11.8], ['23', 12.42], ['09', 9.7], ['01', 8.79], ['10', 8.25], ['00', 15.71]]\n"
     ]
    }
   ],
   "source": [
    "#create function to calculate the average amount of comments created at each hour\n",
    "def avg_comments_by_hour(counts_by_hour, comments_by_hour):\n",
    "    avg_by_hour = []\n",
    "    for key in counts_by_hour:\n",
    "        avg = (comments_by_hour[key]/counts_by_hour[key])\n",
    "        avg = round(avg, 2)\n",
    "        avg_by_hour.append([key,avg])\n",
    "    \n",
    "    return avg_by_hour\n",
    "\n",
    "ask_avg_by_hour = avg_comments_by_hour(ask_counts_by_hour, ask_comments_by_hour)\n",
    "show_avg_by_hour = avg_comments_by_hour(show_counts_by_hour, show_comments_by_hour)\n",
    "\n",
    "print(ask_avg_by_hour)\n",
    "print('\\n')\n",
    "print(show_avg_by_hour)"
   ]
  },
  {
   "cell_type": "markdown",
   "metadata": {},
   "source": [
    "We now calculated the average number of comments per hour, but its somewhat difficult to read. The next step is to reformat the lists and print the five highest values."
   ]
  },
  {
   "cell_type": "code",
   "execution_count": 7,
   "metadata": {},
   "outputs": [
    {
     "name": "stdout",
     "output_type": "stream",
     "text": [
      "Top 5 hours for Ask HN post comments:\n",
      "15:00: 38.59 average comments per post\n",
      "02:00: 23.81 average comments per post\n",
      "20:00: 21.52 average comments per post\n",
      "16:00: 16.8 average comments per post\n",
      "21:00: 16.01 average comments per post\n",
      "\n",
      "\n",
      "Top 5 hours for Show HN post comments:\n",
      "18:00: 15.77 average comments per post\n",
      "00:00: 15.71 average comments per post\n",
      "14:00: 13.44 average comments per post\n",
      "23:00: 12.42 average comments per post\n",
      "22:00: 12.39 average comments per post\n"
     ]
    }
   ],
   "source": [
    "#create function that sorts the values of the 'average_comments_by_hour' function by finding the top 5 hours\n",
    "def sort_by_avg_hour(avg_by_hour, post_type):\n",
    "    swap_avg_by_hour = []\n",
    "    for rows in avg_by_hour:\n",
    "        swap_avg_by_hour.append([rows[1], rows[0]])\n",
    "    #Sort from highest to lowest\n",
    "    sorted_swap = sorted(swap_avg_by_hour, reverse = True)\n",
    "    print('Top 5 hours for {} post comments:'.format(post_type))\n",
    "    print_sorted(sorted_swap)\n",
    "\n",
    "#a subfunction that displays the first 5 rows in a specified format\n",
    "def print_sorted(sorted_swap):\n",
    "    the_format = '{hr}: {avg} average comments per post'\n",
    "    for row in sorted_swap[:5]:\n",
    "        hour = dt.datetime.strptime(row[1], '%H')\n",
    "        hour_str = hour.strftime('%H:%M')\n",
    "        average = row[0]\n",
    "        print(the_format.format(hr=hour_str, avg = average))\n",
    "        \n",
    "sorted_ask_avg_by_hour = sort_by_avg_hour(ask_avg_by_hour, 'Ask HN')\n",
    "print('\\n')\n",
    "sorted_show_avg_by_hour = sort_by_avg_hour(show_avg_by_hour, 'Show HN')\n",
    "        \n",
    "\n",
    "        \n",
    "    "
   ]
  },
  {
   "cell_type": "markdown",
   "metadata": {},
   "source": [
    "After making the readability more visible we can see that 'Ask HN' posts get the most comments on average at 3 PM Eastern Time, followed by 2 AM, 8 PM, 4, PM, and 7 PM. For the 'Show HN' posts, the time that a post gets the most comments is 6 PM followed by 12 AM, 2 PM, 11 PM, and 10 PM. If we want to convert it to Pacific Standard Time we would have to subtract it by three hours."
   ]
  },
  {
   "cell_type": "markdown",
   "metadata": {},
   "source": [
    "# Conclusion\n",
    "\n",
    "The purpose of the project was to see whether 'Ask HN' or 'Show HN' posts receive more comments on average and then also when comments are posted for the two different posts. From the results we can see that the 'Ask HN' averages more comments at 14 comments compared to the 'Show HN' posts which average to 10. Splitting the two different posts and see when they each receive the most comments on average, it seems users post the most comments at 12 PM PST for 'Ask HN' and 5 PM PST for 'Show HN' posts. Converting the times to PST, almost all the times in the top five for both post types are in the afternoon and evening with the only outlier to be 11 AM PST for 'Show HN' posts. It is safe to conclude with this information that the most user interactions on a post would be a 'Ask HN' post in the later afternoon."
   ]
  }
 ],
 "metadata": {
  "kernelspec": {
   "display_name": "Python 3",
   "language": "python",
   "name": "python3"
  },
  "language_info": {
   "codemirror_mode": {
    "name": "ipython",
    "version": 3
   },
   "file_extension": ".py",
   "mimetype": "text/x-python",
   "name": "python",
   "nbconvert_exporter": "python",
   "pygments_lexer": "ipython3",
   "version": "3.8.2"
  }
 },
 "nbformat": 4,
 "nbformat_minor": 2
}
